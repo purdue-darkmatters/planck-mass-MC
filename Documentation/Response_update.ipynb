{
 "cells": [
  {
   "cell_type": "code",
   "execution_count": 5,
   "metadata": {},
   "outputs": [],
   "source": [
    "import json\n",
    "import uuid\n",
    "import numpy as np\n",
    "from tqdm import tqdm\n",
    "lin_resp_fl = __import__('planck-mass-MC.generate_linear_response_json')\n",
    "gen_lin_resp = lin_resp_fl.generate_linear_response_json.output_response_json"
   ]
  },
  {
   "cell_type": "code",
   "execution_count": 9,
   "metadata": {},
   "outputs": [],
   "source": [
    "min_accel = -1\n",
    "max_accel = 1\n",
    "bits = 16 # number of bits in digitizer"
   ]
  },
  {
   "cell_type": "code",
   "execution_count": 11,
   "metadata": {},
   "outputs": [],
   "source": [
    "with open(\"response.json\", \"w\") as file_out:\n",
    "    # Options for filter: Default: 'FIR_filter';\n",
    "    #                     'Tri_filter';\n",
    "    #                     'Gauss_filter'\n",
    "    gen_lin_resp(file = file_out, bits = bits, min_acceleration = min_accel, max_acceleration = max_accel, Lin_Resp = 'FIR_filter')"
   ]
  },
  {
   "cell_type": "code",
   "execution_count": null,
   "metadata": {},
   "outputs": [],
   "source": []
  }
 ],
 "metadata": {
  "kernelspec": {
   "display_name": "Python 3",
   "language": "python",
   "name": "python3"
  },
  "language_info": {
   "codemirror_mode": {
    "name": "ipython",
    "version": 3
   },
   "file_extension": ".py",
   "mimetype": "text/x-python",
   "name": "python",
   "nbconvert_exporter": "python",
   "pygments_lexer": "ipython3",
   "version": "3.7.6"
  }
 },
 "nbformat": 4,
 "nbformat_minor": 4
}
