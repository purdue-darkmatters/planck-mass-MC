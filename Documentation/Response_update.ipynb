{
 "cells": [
  {
   "cell_type": "code",
   "execution_count": 7,
   "metadata": {},
   "outputs": [],
   "source": [
    "import json\n",
    "import uuid\n",
    "import numpy as np\n",
    "from tqdm import tqdm"
   ]
  },
  {
   "cell_type": "code",
   "execution_count": 8,
   "metadata": {},
   "outputs": [],
   "source": [
    "min_accel = -1\n",
    "max_accel = 1\n",
    "bits = 16 # number of bits in digitizer"
   ]
  },
  {
   "cell_type": "code",
   "execution_count": 9,
   "metadata": {},
   "outputs": [
    {
     "name": "stderr",
     "output_type": "stream",
     "text": [
      "100%|██████████| 64/64 [00:00<00:00, 65122.62it/s]\n"
     ]
    }
   ],
   "source": [
    "dictionary = {}\n",
    "serial = []\n",
    "with open('position.json') as Position:\n",
    "    data = json.load(Position)\n",
    "\n",
    "for x in range(0,len(data['detectors'])):\n",
    "    serial.append(data['detectors'][x]['serial'])\n",
    "\n",
    "bin_borders = list(np.linspace(min_accel, max_accel, 2**bits-1, endpoint=True))\n",
    "data2 = {'linear_response': [1], 'signal_transfer_response': bin_borders}\n",
    "for x2 in tqdm(range(0,len(data['detectors']))):\n",
    "    dictionary.update({serial[x2]: data2})\n",
    "\n",
    "with open(\"response.json\", \"w\") as outfile:\n",
    "    json_object = json.dumps(dictionary, indent=4)\n",
    "    outfile.write(json_object)"
   ]
  },
  {
   "cell_type": "code",
   "execution_count": null,
   "metadata": {},
   "outputs": [],
   "source": []
  }
 ],
 "metadata": {
  "kernelspec": {
   "display_name": "Python 3",
   "language": "python",
   "name": "python3"
  },
  "language_info": {
   "codemirror_mode": {
    "name": "ipython",
    "version": 3
   },
   "file_extension": ".py",
   "mimetype": "text/x-python",
   "name": "python",
   "nbconvert_exporter": "python",
   "pygments_lexer": "ipython3",
   "version": "3.7.6"
  }
 },
 "nbformat": 4,
 "nbformat_minor": 4
}
